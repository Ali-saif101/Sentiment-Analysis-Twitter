{
 "cells": [
  {
   "cell_type": "code",
   "execution_count": 1,
   "id": "f6fd6a48-2b21-4090-95a0-e1a488675ccf",
   "metadata": {
    "tags": []
   },
   "outputs": [
    {
     "name": "stdout",
     "output_type": "stream",
     "text": [
      "Requirement already satisfied: kaggle in c:\\users\\sumay\\anaconda3\\lib\\site-packages (1.6.14)\n",
      "Requirement already satisfied: six>=1.10 in c:\\users\\sumay\\anaconda3\\lib\\site-packages (from kaggle) (1.16.0)\n",
      "Requirement already satisfied: certifi>=2023.7.22 in c:\\users\\sumay\\anaconda3\\lib\\site-packages (from kaggle) (2023.7.22)\n",
      "Requirement already satisfied: python-dateutil in c:\\users\\sumay\\anaconda3\\lib\\site-packages (from kaggle) (2.8.2)\n",
      "Requirement already satisfied: requests in c:\\users\\sumay\\anaconda3\\lib\\site-packages (from kaggle) (2.32.3)\n",
      "Requirement already satisfied: tqdm in c:\\users\\sumay\\anaconda3\\lib\\site-packages (from kaggle) (4.66.4)\n",
      "Requirement already satisfied: python-slugify in c:\\users\\sumay\\anaconda3\\lib\\site-packages (from kaggle) (5.0.2)\n",
      "Requirement already satisfied: urllib3 in c:\\users\\sumay\\anaconda3\\lib\\site-packages (from kaggle) (1.26.16)\n",
      "Requirement already satisfied: bleach in c:\\users\\sumay\\anaconda3\\lib\\site-packages (from kaggle) (4.1.0)\n",
      "Requirement already satisfied: packaging in c:\\users\\sumay\\anaconda3\\lib\\site-packages (from bleach->kaggle) (23.0)\n",
      "Requirement already satisfied: webencodings in c:\\users\\sumay\\anaconda3\\lib\\site-packages (from bleach->kaggle) (0.5.1)\n",
      "Requirement already satisfied: text-unidecode>=1.3 in c:\\users\\sumay\\anaconda3\\lib\\site-packages (from python-slugify->kaggle) (1.3)\n",
      "Requirement already satisfied: charset-normalizer<4,>=2 in c:\\users\\sumay\\anaconda3\\lib\\site-packages (from requests->kaggle) (2.0.4)\n",
      "Requirement already satisfied: idna<4,>=2.5 in c:\\users\\sumay\\anaconda3\\lib\\site-packages (from requests->kaggle) (2.10)\n",
      "Requirement already satisfied: colorama in c:\\users\\sumay\\anaconda3\\lib\\site-packages (from tqdm->kaggle) (0.4.6)\n",
      "Note: you may need to restart the kernel to use updated packages.\n"
     ]
    }
   ],
   "source": [
    "pip install kaggle"
   ]
  },
  {
   "cell_type": "code",
   "execution_count": 2,
   "id": "0f260572-6a1b-4d34-8d0b-36bbac291e42",
   "metadata": {
    "tags": []
   },
   "outputs": [
    {
     "name": "stdout",
     "output_type": "stream",
     "text": [
      "Dataset URL: https://www.kaggle.com/datasets/kazanova/sentiment140\n",
      "License(s): other\n",
      "sentiment140.zip: Skipping, found more recently modified local copy (use --force to force download)\n"
     ]
    }
   ],
   "source": [
    "import os\n",
    "\n",
    "# Disable the symlink warning\n",
    "os.environ['HF_HUB_DISABLE_SYMLINKS_WARNING'] = '1'\n",
    "\n",
    "# Ensure the Kaggle API credentials are set up\n",
    "os.environ['KAGGLE_CONFIG_DIR'] = os.path.expanduser('~/.kaggle')\n",
    "\n",
    "# Download a sample dataset\n",
    "!kaggle datasets download -d kazanova/sentiment140\n",
    "\n",
    "# Unzip the dataset\n",
    "import zipfile\n",
    "with zipfile.ZipFile(\"sentiment140.zip\",\"r\") as zip_ref:\n",
    "    zip_ref.extractall(\".\")\n",
    "\n",
    "import pandas as pd\n",
    "from transformers import pipeline\n",
    "\n",
    "# Load the dataset\n",
    "tweets_df = pd.read_csv('training.1600000.processed.noemoticon.csv', \n",
    "                        encoding='latin1', \n",
    "                        header=None, \n",
    "                        usecols=[0, 5], \n",
    "                        names=['sentiment', 'text'])\n",
    "\n",
    "# Map sentiment to readable labels\n",
    "sentiment_map = {0: 'NEGATIVE', 4: 'POSITIVE'}\n",
    "tweets_df['sentiment'] = tweets_df['sentiment'].map(sentiment_map)\n",
    "\n",
    "# Create a smaller DataFrame with the top 200 tweets\n",
    "sample_tweets_df = tweets_df.head(200).copy()\n",
    "\n",
    "# Load the sentiment-analysis pipeline with a specified model\n",
    "sentiment_pipeline = pipeline(\n",
    "    \"sentiment-analysis\", \n",
    "    model=\"distilbert-base-uncased-finetuned-sst-2-english\",\n",
    "    revision=\"af0f99b\"\n",
    ")\n",
    "\n",
    "# Function to perform sentiment analysis\n",
    "def analyze_sentiment(texts):\n",
    "    results = sentiment_pipeline(texts)\n",
    "    return results\n",
    "\n",
    "# Perform sentiment analysis on the top 200 tweets\n",
    "tweet_texts = sample_tweets_df['text'].tolist()\n",
    "sentiments = analyze_sentiment(tweet_texts)\n",
    "\n",
    "# Add sentiments to the smaller DataFrame\n",
    "sample_tweets_df['bert_sentiment'] = [result['label'] for result in sentiments]\n",
    "sample_tweets_df['bert_sentiment_score'] = [result['score'] for result in sentiments]\n",
    "\n",
    "# Save the results to CSV\n",
    "sample_tweets_df.to_csv('tweets_with_bert_sentiments.csv', index=False)\n"
   ]
  },
  {
   "cell_type": "code",
   "execution_count": null,
   "id": "b7c3f8db-e23c-4486-8914-74eaa7f4fe8d",
   "metadata": {},
   "outputs": [],
   "source": []
  }
 ],
 "metadata": {
  "kernelspec": {
   "display_name": "Python 3 (ipykernel)",
   "language": "python",
   "name": "python3"
  },
  "language_info": {
   "codemirror_mode": {
    "name": "ipython",
    "version": 3
   },
   "file_extension": ".py",
   "mimetype": "text/x-python",
   "name": "python",
   "nbconvert_exporter": "python",
   "pygments_lexer": "ipython3",
   "version": "3.11.4"
  }
 },
 "nbformat": 4,
 "nbformat_minor": 5
}
